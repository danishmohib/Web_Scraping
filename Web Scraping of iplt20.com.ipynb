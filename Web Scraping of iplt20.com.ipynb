{
  "nbformat": 4,
  "nbformat_minor": 0,
  "metadata": {
    "colab": {
      "provenance": [],
      "authorship_tag": "ABX9TyP3hMZ2mw3411OCyV4uUlv/",
      "include_colab_link": true
    },
    "kernelspec": {
      "name": "python3",
      "display_name": "Python 3"
    },
    "language_info": {
      "name": "python"
    }
  },
  "cells": [
    {
      "cell_type": "markdown",
      "metadata": {
        "id": "view-in-github",
        "colab_type": "text"
      },
      "source": [
        "<a href=\"https://colab.research.google.com/github/danishmohib/Web_Scraping/blob/main/Web%20Scraping%20of%20iplt20.com.ipynb\" target=\"_parent\"><img src=\"https://colab.research.google.com/assets/colab-badge.svg\" alt=\"Open In Colab\"/></a>"
      ]
    },
    {
      "cell_type": "code",
      "execution_count": null,
      "metadata": {
        "colab": {
          "base_uri": "https://localhost:8080/"
        },
        "id": "hFp7Aqzp6Slr",
        "outputId": "84908483-54fa-4eb3-e7c3-e296bbfa6f9e"
      },
      "outputs": [
        {
          "output_type": "stream",
          "name": "stdout",
          "text": [
            "['TEAM', 'FUNDS REMAINING', 'OVERSEAS PLAYERS ', 'TOTAL PLAYERS']\n"
          ]
        }
      ],
      "source": [
        "import requests\n",
        "from bs4 import BeautifulSoup\n",
        "import pandas as pd\n",
        "url='https://www.iplt20.com/auction/2022#:~:text=TATA%20IPL%20Auction%20%2D%202022,IPL)%202022%20Auction%20in%20Bengaluru.'\n",
        "r=requests.get(url)\n",
        "r\n",
        "soup=BeautifulSoup(r.text,'lxml')\n",
        "soup\n",
        "table=soup.find('table',class_='ih-td-tab auction-tbl')\n",
        "table\n",
        "title=table.find_all('th')\n",
        "title\n",
        "header=[]\n",
        "for i in title:\n",
        "  name=i.text\n",
        "  header.append(name)\n",
        "print(header)\n",
        "df=pd.DataFrame(columns=header)\n",
        "rows=table.find_all('tr')\n",
        "rows\n",
        "for i in rows[1:]:\n",
        "  first_td=i.find_all('td')[0].find(\"div\",class_=\"ih-pt-ic\").text.strip()\n",
        "  data=i.find_all('td')[1:]\n",
        "  rows=[tr.text for tr in data]\n",
        "  rows.insert(0,first_td)\n",
        "  l=len(df)\n",
        "  df.loc[l]=rows\n",
        "df\n",
        "df.to_csv('ipl auction stats.csv')\n"
      ]
    }
  ]
}