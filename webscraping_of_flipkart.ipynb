{
  "nbformat": 4,
  "nbformat_minor": 0,
  "metadata": {
    "colab": {
      "provenance": [],
      "authorship_tag": "ABX9TyPL3UbSEnOXckGK302HxpFA",
      "include_colab_link": true
    },
    "kernelspec": {
      "name": "python3",
      "display_name": "Python 3"
    },
    "language_info": {
      "name": "python"
    }
  },
  "cells": [
    {
      "cell_type": "markdown",
      "metadata": {
        "id": "view-in-github",
        "colab_type": "text"
      },
      "source": [
        "<a href=\"https://colab.research.google.com/github/danishmohib/Web_Scraping/blob/main/webscraping_of_flipkart.ipynb\" target=\"_parent\"><img src=\"https://colab.research.google.com/assets/colab-badge.svg\" alt=\"Open In Colab\"/></a>"
      ]
    },
    {
      "cell_type": "code",
      "execution_count": 5,
      "metadata": {
        "colab": {
          "base_uri": "https://localhost:8080/"
        },
        "id": "5jxlcUZId-ep",
        "outputId": "1d6000f9-cc51-422e-f3d0-493074610bb5"
      },
      "outputs": [
        {
          "output_type": "stream",
          "name": "stdout",
          "text": [
            "<Response [200]>\n",
            "[]\n",
            "[]\n",
            "0\n",
            "Empty DataFrame\n",
            "Columns: [Descriptions]\n",
            "Index: []\n"
          ]
        }
      ],
      "source": [
        "import pandas as pd\n",
        "from bs4 import BeautifulSoup\n",
        "import requests\n",
        "import html5lib\n",
        "Description=[]\n",
        "Reviews=[]\n",
        "url='https://www.flipkart.com/search?q=mobiles+under+30000+camera+phone&as=on&as-show=on&otracker=AS_Query_OrganicAutoSuggest_6_13_na_na_na&otracker1=AS_Query_OrganicAutoSuggest_6_13_na_na_na&as-pos=6&as-type=RECENT&suggestionId=mobiles+under+30000+camera+phone&requestId=e3590d8f-1f47-409a-a9ee-64a9055ea3d6&as-searchtext=mobiles+under&page=2'\n",
        "response=requests.get(url)\n",
        "print(response)\n",
        "soup=BeautifulSoup(response.text,'html5lib')\n",
        "desc=soup.find_all('ul',class_='_1xgFaf')\n",
        "for i in desc:\n",
        "    name=i.text\n",
        "    Description.append(name)\n",
        "print(Description)\n",
        "\n",
        "reviews=soup.find_all('div',class_='_3LWZlK')\n",
        "for i in reviews:\n",
        "    name=i.text\n",
        "    Reviews.append(name)\n",
        "print(Reviews)\n",
        "print(len(Reviews))\n",
        "\n",
        "df=pd.DataFrame({'Descriptions':Description})\n",
        "print(df)\n"
      ]
    }
  ]
}